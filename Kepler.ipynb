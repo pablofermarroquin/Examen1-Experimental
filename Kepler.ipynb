{
  "nbformat": 4,
  "nbformat_minor": 0,
  "metadata": {
    "colab": {
      "name": "Kepler.ipynb",
      "provenance": [],
      "collapsed_sections": []
    },
    "kernelspec": {
      "name": "python3",
      "display_name": "Python 3"
    },
    "language_info": {
      "name": "python"
    }
  },
  "cells": [
    {
      "cell_type": "code",
      "metadata": {
        "id": "8HjJ3Hay6xtA"
      },
      "source": [
        "import numpy as np\n",
        "import matplotlib.pyplot as plt "
      ],
      "execution_count": null,
      "outputs": []
    },
    {
      "cell_type": "code",
      "metadata": {
        "id": "W_KKTTxy7RVD"
      },
      "source": [
        "#t= np.linspace(0, 1.57*10**5, 3.14*10**7, endpoint = True)\n",
        "xo=1.496*10**11\n",
        "yo=100\n",
        "vi=2.93*10**4\n",
        "G=6.67*10**(-11)\n",
        "M=1.99*10**30\n",
        "\n",
        "Vx=[]\n",
        "Vy=[]\n",
        "x=[]\n",
        "y=[]\n",
        "\n",
        "Vx.append(0)\n",
        "Vy.append(0)\n",
        "x.append(xo)\n",
        "y.append(yo)\n",
        "\n",
        "i=0\n",
        "step=1.57*10**5\n",
        "for t in range(0, 3.14*10**7, step):\n",
        "  Vx.append(Vx[i]-step*G*M*x[i]/(x[i]**2+y[i]**2)**(1.5))\n",
        "  Vy.append(Vy[i]-step*G*M*y[i]/(x[i]**2+y[i]**2)**(1.5))\n",
        "  y.append()\n"
      ],
      "execution_count": null,
      "outputs": []
    },
    {
      "cell_type": "code",
      "metadata": {
        "colab": {
          "base_uri": "https://localhost:8080/",
          "height": 312
        },
        "id": "2aQuWvwgCJWs",
        "outputId": "4dd9fa91-0ad2-449d-c2ec-f878152b3739"
      },
      "source": [
        "# -*- coding: utf-8 -*-\n",
        "\"\"\"\n",
        "Created on Wed Apr  7 19:32:30 2021\n",
        "\n",
        "@author: pablo\n",
        "\"\"\"\n",
        "\n",
        "import numpy as np\n",
        "import matplotlib.pyplot as plt \n",
        "\n",
        "h=1e4\n",
        "G=6.67e-11\n",
        "m=1.99e30\n",
        "au=1.49e11\n",
        "\n",
        "vyi=2*np.pi*au/(365*24*3600)\n",
        "vxi=10\n",
        "xi=au\n",
        "yi=0\n",
        "\n",
        "t=[]\n",
        "x=[]\n",
        "y=[]\n",
        "vx=[]\n",
        "vy=[]\n",
        "\n",
        "t.append(0.0)\n",
        "x.append(xi)\n",
        "y.append(yi)\n",
        "vx.append(vxi)\n",
        "vy.append(vyi)\n",
        "\n",
        "posx=xi\n",
        "posy=yi\n",
        "vel_x=vxi\n",
        "vel_y=vyi\n",
        "i=0\n",
        "\n",
        "while i<100000:\n",
        "  t.append(t[i]+h)\n",
        "  vel_x=vel_x-h*G*m*posx/(posx**2+posy**2)**1.5\n",
        "  vel_y=vel_y-h*G*m*posy/(posx**2+posy**2)**1.5\n",
        "  posx+=h*vel_x\n",
        "  posy+=h*vel_y\n",
        "  i+=1\n",
        "  x.append(posx)\n",
        "  y.append(posy)\n",
        "  vx.append(vel_x)\n",
        "  vy.append(vel_y)\n",
        "  \n",
        "\n",
        "A=(xi-min(x))/2\n",
        "e=(1-(max(y)/A)**2)**0.5\n",
        "print(\"Excentricidad: \"+str(e))\n",
        "plt.xlim(-1.1*max(x),1.1*max(x))\n",
        "plt.ylim(-1.1*max(y),1.1*max(y))\n",
        "plt.plot(x,y)\n",
        "plt.xlabel(\"x (m)\")\n",
        "plt.ylabel(\"y (m)\")\n",
        "plt.title(\"Órbita\")\n",
        "plt.show()"
      ],
      "execution_count": null,
      "outputs": [
        {
          "output_type": "stream",
          "text": [
            "Excentricidad: 0.037945903229291186\n"
          ],
          "name": "stdout"
        },
        {
          "output_type": "display_data",
          "data": {
            "image/png": "[encoded data removed]",
            "text/plain": [
              "<Figure size 432x288 with 1 Axes>"
            ]
          },
          "metadata": {
            "tags": [],
            "needs_background": "light"
          }
        }
      ]
    },
    {
      "cell_type": "code",
      "metadata": {
        "colab": {
          "base_uri": "https://localhost:8080/",
          "height": 312
        },
        "id": "Hbta3fA60K7a",
        "outputId": "074392ef-2f50-4a9d-f807-665e2913924b"
      },
      "source": [
        "# -*- coding: utf-8 -*-\n",
        "\"\"\"\n",
        "Created on Wed Apr  7 19:32:30 2021\n",
        "\n",
        "@author: pablo\n",
        "\"\"\"\n",
        "\n",
        "import numpy as np\n",
        "import matplotlib.pyplot as plt \n",
        "\n",
        "h=1e3\n",
        "G=6.67e-11\n",
        "m=1.99e30\n",
        "au=1.49e11\n",
        "\n",
        "vyi=2*np.pi*au/(365*24*3600*75.3)\n",
        "vxi=10\n",
        "xi=au*0.571623\n",
        "yi=0\n",
        "\n",
        "\n",
        "t=[]\n",
        "x=[]\n",
        "y=[]\n",
        "vx=[]\n",
        "vy=[]\n",
        "\n",
        "t.append(0.0)\n",
        "x.append(xi)\n",
        "y.append(yi)\n",
        "vx.append(vxi)\n",
        "vy.append(vyi)\n",
        "\n",
        "posx=xi\n",
        "posy=yi\n",
        "vel_x=vxi\n",
        "vel_y=vyi\n",
        "i=0\n",
        "\n",
        "while i<5000000:\n",
        "  t.append(t[i]+h)\n",
        "  vel_x=vel_x-h*G*m*posx/(posx**2+posy**2)**1.5\n",
        "  vel_y=vel_y-h*G*m*posy/(posx**2+posy**2)**1.5\n",
        "  posx+=h*vel_x\n",
        "  posy+=h*vel_y\n",
        "  i+=1\n",
        "  x.append(posx)\n",
        "  y.append(posy)\n",
        "  vx.append(vel_x)\n",
        "  vy.append(vel_y)\n",
        "  \n",
        "\n",
        "A=(xi-min(x))/2\n",
        "e=(1-(max(y)/A)**2)**0.5\n",
        "print(\"Excentricidad: \"+str(e))\n",
        "plt.xlim(-1.1*max(x),1.1*max(x))\n",
        "plt.ylim(-1.1*max(y),1.1*max(y))\n",
        "plt.plot(x,y)\n",
        "plt.xlabel(\"x (m)\")\n",
        "plt.ylabel(\"y (m)\")\n",
        "plt.title(\"Órbita\")\n",
        "plt.show()"
      ],
      "execution_count": null,
      "outputs": [
        {
          "output_type": "stream",
          "text": [
            "Excentricidad: 0.9999007664665924\n"
          ],
          "name": "stdout"
        },
        {
          "output_type": "display_data",
          "data": {
            "image/png": "[encoded data removed]",
            "text/plain": [
              "<Figure size 432x288 with 1 Axes>"
            ]
          },
          "metadata": {
            "tags": [],
            "needs_background": "light"
          }
        }
      ]
    }
  ]
}